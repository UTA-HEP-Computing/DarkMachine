{
 "cells": [
  {
   "cell_type": "code",
   "execution_count": 1,
   "metadata": {},
   "outputs": [
    {
     "name": "stderr",
     "output_type": "stream",
     "text": [
      "Using TensorFlow backend.\n"
     ]
    }
   ],
   "source": [
    "import numpy as np\n",
    "import os\n",
    "os.environ[\"KERAS_BACKEND\"] = \"tensorflow\"\n",
    "import h5py\n",
    "import pickle\n",
    "import pandas\n",
    "import matplotlib.pyplot as plt\n",
    "\n",
    "import tensorflow as tf\n",
    "from keras.models import Model\n",
    "from keras.layers import Input, Dense, Dropout\n",
    "from keras.utils import plot_model"
   ]
  },
  {
   "cell_type": "code",
   "execution_count": 2,
   "metadata": {
    "scrolled": true
   },
   "outputs": [
    {
     "data": {
      "text/plain": [
       "[]"
      ]
     },
     "execution_count": 2,
     "metadata": {},
     "output_type": "execute_result"
    }
   ],
   "source": [
    "from keras import backend as K\n",
    "K.tensorflow_backend._get_available_gpus()"
   ]
  },
  {
   "cell_type": "code",
   "execution_count": 3,
   "metadata": {
    "collapsed": true,
    "scrolled": true
   },
   "outputs": [],
   "source": [
    "# split-QCDvsTop-data for VAE training\n",
    "\n",
    "### Mila cluster\n",
    "input_filename=\"/data/sxg3847/v0-samples/v0/train.h5\"\n",
    "\n",
    "store=pandas.HDFStore(input_filename) # pytable interface in pandas\n",
    "\n",
    "data=store.select('table', stop=100000)\n",
    "qcd_all=data[data[\"is_signal_new\"]==0] # data selection [0: qcd; 1: top]\n",
    "qcd_all=qcd_all.values # transform into numpy arrays\n",
    "qcd_all=qcd_all[:,0:400]\n",
    "    \n",
    "for i in range(1,12): # range(1, 4) for validation and test set\n",
    "    data=store.select(\"table\", start=i*100000, stop=(i+1)*100000) # pandas dataframe\n",
    "    qcd=data[data[\"is_signal_new\"]==0] # data selection [0: qcd; 1: top]\n",
    "    qcd=qcd.values # transform into numpy arrays\n",
    "    qcd=qcd[:,0:400]\n",
    "    qcd_all=np.append(qcd_all, qcd, axis=0)\n",
    "\n",
    "data_out=h5py.File('AE_train_qcd.h5', 'w')\n",
    "dset=data_out.create_dataset('table', data=qcd_all)\n",
    "data_out.close()"
   ]
  },
  {
   "cell_type": "code",
   "execution_count": null,
   "metadata": {
    "collapsed": true
   },
   "outputs": [],
   "source": [
    "### Preprocessing \n",
    "from preprocessing import preprocessing "
   ]
  },
  {
   "cell_type": "code",
   "execution_count": null,
   "metadata": {
    "collapsed": true
   },
   "outputs": [],
   "source": [
    "f=h5py.File('AE_train_qcd.h5','r')\n",
    "data=f['table']\n",
    "data_preprocessed=[]"
   ]
  },
  {
   "cell_type": "code",
   "execution_count": null,
   "metadata": {
    "collapsed": true
   },
   "outputs": [],
   "source": [
    "for i in range(len(data)):\n",
    "    if i%10000==0:\n",
    "        print i\n",
    "    data_preprocessed.append(preprocessing(data[i]))"
   ]
  },
  {
   "cell_type": "code",
   "execution_count": null,
   "metadata": {
    "collapsed": true
   },
   "outputs": [],
   "source": [
    "data_preprocessed=np.vstack(data_preprocessed)\n",
    "data_out=h5py.File('AE_train_qcd_preprocessed.h5', 'w')\n",
    "dset=data_out.create_dataset('table', data=data_preprocessed)\n",
    "data_out.close()\n",
    "data_out=h5py.File('AE_train_qcd_preprocessed.h5', 'w')\n",
    "dset=data_out.create_dataset('table', data=data_preprocessed)\n",
    "data_out.close()\n",
    "f.close()"
   ]
  },
  {
   "cell_type": "code",
   "execution_count": 5,
   "metadata": {
    "collapsed": true
   },
   "outputs": [],
   "source": [
    "### Loading Data\n",
    "\n",
    "from sklearn.preprocessing import scale, normalize\n",
    "from sklearn.preprocessing import RobustScaler, StandardScaler"
   ]
  },
  {
   "cell_type": "code",
   "execution_count": 6,
   "metadata": {
    "collapsed": true
   },
   "outputs": [],
   "source": [
    "LEN_INPUT=80"
   ]
  },
  {
   "cell_type": "code",
   "execution_count": 7,
   "metadata": {
    "collapsed": true
   },
   "outputs": [],
   "source": [
    "def load_data(filename, len_input=80):\n",
    "    # set input length\n",
    "    #len_input=80\n",
    "\n",
    "    # load hdf5 dataset: data/AE_training_qcd.h5\n",
    "    f_train=h5py.File(filename,'r')\n",
    "    #f_validation=h5py.File('data/AE_validation_qcd.h5', 'r')\n",
    "\n",
    "    x_train=f_train['table']\n",
    "    #x_validation=f_validation['table']\n",
    "\n",
    "    x_train.shape\n",
    "    #x_validation.shape\n",
    "\n",
    "    x_train=x_train[:,:len_input]\n",
    "    #x_validation=x_validation[:,:200]\n",
    "\n",
    "    scaler=RobustScaler().fit(x_train)\n",
    "\n",
    "    x_train=scaler.transform(x_train)\n",
    "    #x_validation=tf.transform(x_validation)\n",
    "    f_train.close()\n",
    "    return x_train"
   ]
  },
  {
   "cell_type": "code",
   "execution_count": 8,
   "metadata": {
    "collapsed": true
   },
   "outputs": [],
   "source": [
    "x_train=load_data('AE_train_qcd_preprocessed.h5', 80)"
   ]
  },
  {
   "cell_type": "markdown",
   "metadata": {},
   "source": [
    "## Model: FCN"
   ]
  },
  {
   "cell_type": "code",
   "execution_count": 9,
   "metadata": {
    "collapsed": true
   },
   "outputs": [],
   "source": [
    "### Model: FCN\n",
    "\n",
    "from keras.utils import plot_model\n",
    "from keras.utils import multi_gpu_model"
   ]
  },
  {
   "cell_type": "code",
   "execution_count": 10,
   "metadata": {
    "collapsed": true
   },
   "outputs": [],
   "source": [
    "input_dim=x_train.shape[1]\n",
    "\n",
    "input_vec = Input(shape =(input_dim,))\n",
    "\n",
    "encoded = Dense(256, activation='relu')(input_vec)\n",
    "encoded = Dense(128, activation='relu')(encoded)\n",
    "encoded = Dense(64, activation='relu')(encoded)\n",
    "encoded = Dense(6, activation='relu')(encoded)\n",
    "\n",
    "decoded = Dense(64, activation='relu')(encoded)\n",
    "decoded = Dense(128, activation='relu')(decoded)\n",
    "decoded = Dense(256, activation='relu')(decoded)\n",
    "decoded = Dense(input_dim, activation='softmax')(decoded)\n",
    "\n",
    "autoencoder=Model(input_vec, decoded)\n",
    "\n",
    "#Data parallelism working with multi GPUs within keras\n",
    "#parallel_autoencoder = multi_gpu_model(autoencoder, gpus=2)\n",
    "\n",
    "autoencoder.compile(optimizer=\"adam\",\n",
    "                    #optimizer=\"rmsprop\",\n",
    "                    loss=\"kullback_leibler_divergence\") # feels like cheating... but somehow it works... still in the process of writing a more appropriate loss...\n",
    "                    #loss=\"mean_squared_error\")\n",
    "                    #loss=\"cosine\")"
   ]
  },
  {
   "cell_type": "code",
   "execution_count": 11,
   "metadata": {
    "scrolled": true
   },
   "outputs": [
    {
     "name": "stdout",
     "output_type": "stream",
     "text": [
      "Train on 480058 samples, validate on 120015 samples\n",
      "Epoch 1/100\n",
      "480058/480058 [==============================] - 20s 43us/step - loss: 78.7544 - val_loss: 78.2550\n",
      "Epoch 2/100\n",
      "480058/480058 [==============================] - 21s 43us/step - loss: 78.0887 - val_loss: 77.9768\n",
      "Epoch 3/100\n",
      "480058/480058 [==============================] - 20s 43us/step - loss: 77.8718 - val_loss: 77.8137\n",
      "Epoch 4/100\n",
      "480058/480058 [==============================] - 20s 42us/step - loss: 77.7292 - val_loss: 77.6595\n",
      "Epoch 5/100\n",
      "480058/480058 [==============================] - 20s 42us/step - loss: 77.6277 - val_loss: 77.6065\n",
      "Epoch 6/100\n",
      "480058/480058 [==============================] - 20s 42us/step - loss: 77.5660 - val_loss: 77.5136\n",
      "Epoch 7/100\n",
      "480058/480058 [==============================] - 20s 42us/step - loss: 77.5180 - val_loss: 77.4839\n",
      "Epoch 8/100\n",
      "480058/480058 [==============================] - 20s 42us/step - loss: 77.4766 - val_loss: 77.4582\n",
      "Epoch 9/100\n",
      "480058/480058 [==============================] - 20s 42us/step - loss: 77.4573 - val_loss: 77.4156\n",
      "Epoch 10/100\n",
      "480058/480058 [==============================] - 20s 42us/step - loss: 77.4203 - val_loss: 77.4277\n",
      "Epoch 11/100\n",
      "480058/480058 [==============================] - 20s 42us/step - loss: 77.4043 - val_loss: 77.3658\n",
      "Epoch 12/100\n",
      "480058/480058 [==============================] - 20s 42us/step - loss: 77.3801 - val_loss: 77.3792\n",
      "Epoch 13/100\n",
      "480058/480058 [==============================] - 20s 42us/step - loss: 77.3774 - val_loss: 77.4052\n",
      "Epoch 14/100\n",
      "480058/480058 [==============================] - 20s 42us/step - loss: 77.3841 - val_loss: 77.3815\n",
      "Epoch 15/100\n",
      "480058/480058 [==============================] - 20s 42us/step - loss: 77.3740 - val_loss: 77.4083\n",
      "Epoch 16/100\n",
      "480058/480058 [==============================] - 20s 42us/step - loss: 77.3578 - val_loss: 77.3213\n",
      "Epoch 17/100\n",
      "480058/480058 [==============================] - 20s 42us/step - loss: 77.3450 - val_loss: 77.3330\n",
      "Epoch 18/100\n",
      "480058/480058 [==============================] - 20s 42us/step - loss: 77.3564 - val_loss: 77.3877\n",
      "Epoch 19/100\n",
      "480058/480058 [==============================] - 20s 42us/step - loss: 77.3188 - val_loss: 77.3204\n",
      "Epoch 20/100\n",
      "480058/480058 [==============================] - 20s 42us/step - loss: 77.2976 - val_loss: 77.3408\n",
      "Epoch 21/100\n",
      "480058/480058 [==============================] - 20s 42us/step - loss: 77.2899 - val_loss: 77.3245\n",
      "Epoch 22/100\n",
      "480058/480058 [==============================] - 20s 42us/step - loss: 77.2890 - val_loss: 77.2728\n",
      "Epoch 23/100\n",
      "480058/480058 [==============================] - 20s 42us/step - loss: 77.2839 - val_loss: 77.3235\n",
      "Epoch 24/100\n",
      "480058/480058 [==============================] - 20s 42us/step - loss: 77.2996 - val_loss: 77.3385\n",
      "Epoch 25/100\n",
      "480058/480058 [==============================] - 20s 42us/step - loss: 77.2882 - val_loss: 77.3264\n",
      "Epoch 26/100\n",
      "480058/480058 [==============================] - 20s 42us/step - loss: 77.3120 - val_loss: 77.3027\n",
      "Epoch 27/100\n",
      "480058/480058 [==============================] - 20s 42us/step - loss: 77.2953 - val_loss: 77.3008\n",
      "Epoch 28/100\n",
      "480058/480058 [==============================] - 20s 42us/step - loss: 77.2897 - val_loss: 77.2606\n",
      "Epoch 29/100\n",
      "480058/480058 [==============================] - 20s 42us/step - loss: 77.2608 - val_loss: 77.3348\n",
      "Epoch 30/100\n",
      "480058/480058 [==============================] - 20s 42us/step - loss: 77.3258 - val_loss: 77.2431\n",
      "Epoch 31/100\n",
      "480058/480058 [==============================] - 20s 42us/step - loss: 77.2945 - val_loss: 77.3180\n",
      "Epoch 32/100\n",
      "480058/480058 [==============================] - 20s 42us/step - loss: 77.2806 - val_loss: 77.2699\n",
      "Epoch 33/100\n",
      "480058/480058 [==============================] - 20s 42us/step - loss: 77.2970 - val_loss: 77.3266\n",
      "Epoch 34/100\n",
      "480058/480058 [==============================] - 20s 42us/step - loss: 77.3145 - val_loss: 77.2984\n",
      "Epoch 35/100\n",
      "480058/480058 [==============================] - 20s 42us/step - loss: 77.3088 - val_loss: 77.3443\n",
      "Epoch 36/100\n",
      "480058/480058 [==============================] - 20s 42us/step - loss: 77.3154 - val_loss: 77.2681\n",
      "Epoch 37/100\n",
      "480058/480058 [==============================] - 20s 42us/step - loss: 77.2781 - val_loss: 77.2744\n",
      "Epoch 38/100\n",
      "480058/480058 [==============================] - 20s 42us/step - loss: 77.3028 - val_loss: 77.3648\n"
     ]
    }
   ],
   "source": [
    "# Training\n",
    "from keras.callbacks import EarlyStopping\n",
    "\n",
    "#cp = ModelCheckpoint(filepath=\"autoencoder.h5\",\n",
    "#                               save_best_only=True,\n",
    "#                               verbose=0)\n",
    "\n",
    "#tb = TensorBoard(log_dir='./logs',\n",
    "#                histogram_freq=0,\n",
    "#                write_graph=True,\n",
    "#                write_images=True)\n",
    "\n",
    "early_stopping = EarlyStopping(monitor='val_loss', min_delta=0.0005, patience=8)\n",
    "\n",
    "history=autoencoder.fit(x_train, x_train, epochs=100,\n",
    "               batch_size=128,\n",
    "               shuffle='batch',\n",
    "               validation_split=0.2,\n",
    "               #validation_data=(x_validation, x_validation),\n",
    "               callbacks=[early_stopping])"
   ]
  },
  {
   "cell_type": "code",
   "execution_count": 12,
   "metadata": {
    "scrolled": true
   },
   "outputs": [
    {
     "name": "stderr",
     "output_type": "stream",
     "text": [
      "DEBUG:matplotlib.font_manager] findfont: Matching :family=sans-serif:style=normal:variant=normal:weight=normal:stretch=normal:size=10.0 to DejaVu Sans (u'/home/sxg3847/env/local/lib/python2.7/site-packages/matplotlib/mpl-data/fonts/ttf/DejaVuSans.ttf') with score of 0.050000\n",
      "DEBUG:matplotlib.font_manager] findfont: Matching :family=sans-serif:style=normal:variant=normal:weight=normal:stretch=normal:size=12.0 to DejaVu Sans (u'/home/sxg3847/env/local/lib/python2.7/site-packages/matplotlib/mpl-data/fonts/ttf/DejaVuSans.ttf') with score of 0.050000\n",
      "DEBUG:matplotlib.font_manager] findfont: Matching :family=STIXGeneral:style=normal:variant=normal:weight=normal:stretch=normal:size=10.0 to STIXGeneral (u'/home/sxg3847/env/local/lib/python2.7/site-packages/matplotlib/mpl-data/fonts/ttf/STIXGeneral.ttf') with score of 0.050000\n",
      "DEBUG:matplotlib.font_manager] findfont: Matching :family=STIXSizeOneSym:style=normal:variant=normal:weight=normal:stretch=normal:size=10.0 to STIXSizeOneSym (u'/home/sxg3847/env/local/lib/python2.7/site-packages/matplotlib/mpl-data/fonts/ttf/STIXSizOneSymReg.ttf') with score of 0.050000\n",
      "DEBUG:matplotlib.font_manager] findfont: Matching :family=STIXGeneral:style=normal:variant=normal:weight=bold:stretch=normal:size=10.0 to STIXGeneral (u'/home/sxg3847/env/local/lib/python2.7/site-packages/matplotlib/mpl-data/fonts/ttf/STIXGeneralBol.ttf') with score of 0.000000\n",
      "DEBUG:matplotlib.font_manager] findfont: Matching :family=STIXSizeThreeSym:style=normal:variant=normal:weight=normal:stretch=normal:size=10.0 to STIXSizeThreeSym (u'/home/sxg3847/env/local/lib/python2.7/site-packages/matplotlib/mpl-data/fonts/ttf/STIXSizThreeSymReg.ttf') with score of 0.050000\n",
      "DEBUG:matplotlib.font_manager] findfont: Matching :family=STIXSizeFourSym:style=normal:variant=normal:weight=normal:stretch=normal:size=10.0 to STIXSizeFourSym (u'/home/sxg3847/env/local/lib/python2.7/site-packages/matplotlib/mpl-data/fonts/ttf/STIXSizFourSymReg.ttf') with score of 0.050000\n",
      "DEBUG:matplotlib.font_manager] findfont: Matching :family=STIXSizeFiveSym:style=normal:variant=normal:weight=normal:stretch=normal:size=10.0 to STIXSizeFiveSym (u'/home/sxg3847/env/local/lib/python2.7/site-packages/matplotlib/mpl-data/fonts/ttf/STIXSizFiveSymReg.ttf') with score of 0.050000\n",
      "DEBUG:matplotlib.font_manager] findfont: Matching :family=STIXSizeTwoSym:style=normal:variant=normal:weight=normal:stretch=normal:size=10.0 to STIXSizeTwoSym (u'/home/sxg3847/env/local/lib/python2.7/site-packages/matplotlib/mpl-data/fonts/ttf/STIXSizTwoSymReg.ttf') with score of 0.050000\n",
      "DEBUG:matplotlib.font_manager] findfont: Matching :family=STIXGeneral:style=italic:variant=normal:weight=normal:stretch=normal:size=10.0 to STIXGeneral (u'/home/sxg3847/env/local/lib/python2.7/site-packages/matplotlib/mpl-data/fonts/ttf/STIXGeneralItalic.ttf') with score of 0.050000\n",
      "DEBUG:matplotlib.font_manager] findfont: Matching :family=STIXNonUnicode:style=italic:variant=normal:weight=normal:stretch=normal:size=10.0 to STIXNonUnicode (u'/home/sxg3847/env/local/lib/python2.7/site-packages/matplotlib/mpl-data/fonts/ttf/STIXNonUniIta.ttf') with score of 0.050000\n",
      "DEBUG:matplotlib.font_manager] findfont: Matching :family=STIXNonUnicode:style=normal:variant=normal:weight=normal:stretch=normal:size=10.0 to STIXNonUnicode (u'/home/sxg3847/env/local/lib/python2.7/site-packages/matplotlib/mpl-data/fonts/ttf/STIXNonUni.ttf') with score of 0.050000\n",
      "DEBUG:matplotlib.font_manager] findfont: Matching :family=STIXNonUnicode:style=normal:variant=normal:weight=bold:stretch=normal:size=10.0 to STIXNonUnicode (u'/home/sxg3847/env/local/lib/python2.7/site-packages/matplotlib/mpl-data/fonts/ttf/STIXNonUniBol.ttf') with score of 0.000000\n",
      "DEBUG:matplotlib.font_manager] findfont: Matching :family=cmb10:style=normal:variant=normal:weight=normal:stretch=normal:size=10.0 to cmb10 (u'/home/sxg3847/env/local/lib/python2.7/site-packages/matplotlib/mpl-data/fonts/ttf/cmb10.ttf') with score of 0.050000\n",
      "DEBUG:matplotlib.font_manager] findfont: Matching :family=cmtt10:style=normal:variant=normal:weight=normal:stretch=normal:size=10.0 to cmtt10 (u'/home/sxg3847/env/local/lib/python2.7/site-packages/matplotlib/mpl-data/fonts/ttf/cmtt10.ttf') with score of 0.050000\n",
      "DEBUG:matplotlib.font_manager] findfont: Matching :family=cmmi10:style=normal:variant=normal:weight=normal:stretch=normal:size=10.0 to cmmi10 (u'/home/sxg3847/env/local/lib/python2.7/site-packages/matplotlib/mpl-data/fonts/ttf/cmmi10.ttf') with score of 0.050000\n",
      "DEBUG:matplotlib.font_manager] findfont: Matching :family=cmex10:style=normal:variant=normal:weight=normal:stretch=normal:size=10.0 to cmex10 (u'/home/sxg3847/env/local/lib/python2.7/site-packages/matplotlib/mpl-data/fonts/ttf/cmex10.ttf') with score of 0.050000\n",
      "DEBUG:matplotlib.font_manager] findfont: Matching :family=cmsy10:style=normal:variant=normal:weight=normal:stretch=normal:size=10.0 to cmsy10 (u'/home/sxg3847/env/local/lib/python2.7/site-packages/matplotlib/mpl-data/fonts/ttf/cmsy10.ttf') with score of 0.050000\n",
      "DEBUG:matplotlib.font_manager] findfont: Matching :family=cmr10:style=normal:variant=normal:weight=normal:stretch=normal:size=10.0 to cmr10 (u'/home/sxg3847/env/local/lib/python2.7/site-packages/matplotlib/mpl-data/fonts/ttf/cmr10.ttf') with score of 0.050000\n",
      "DEBUG:matplotlib.font_manager] findfont: Matching :family=cmss10:style=normal:variant=normal:weight=normal:stretch=normal:size=10.0 to cmss10 (u'/home/sxg3847/env/local/lib/python2.7/site-packages/matplotlib/mpl-data/fonts/ttf/cmss10.ttf') with score of 0.050000\n",
      "DEBUG:matplotlib.font_manager] findfont: Matching :family=DejaVu Sans:style=normal:variant=normal:weight=normal:stretch=normal:size=10.0 to DejaVu Sans (u'/home/sxg3847/env/local/lib/python2.7/site-packages/matplotlib/mpl-data/fonts/ttf/DejaVuSans.ttf') with score of 0.050000\n",
      "DEBUG:matplotlib.font_manager] findfont: Matching :family=DejaVu Sans:style=normal:variant=normal:weight=bold:stretch=normal:size=10.0 to DejaVu Sans (u'/home/sxg3847/env/local/lib/python2.7/site-packages/matplotlib/mpl-data/fonts/ttf/DejaVuSans-Bold.ttf') with score of 0.000000\n",
      "DEBUG:matplotlib.font_manager] findfont: Matching :family=DejaVu Sans Mono:style=normal:variant=normal:weight=normal:stretch=normal:size=10.0 to DejaVu Sans Mono (u'/home/sxg3847/env/local/lib/python2.7/site-packages/matplotlib/mpl-data/fonts/ttf/DejaVuSansMono.ttf') with score of 0.050000\n",
      "DEBUG:matplotlib.font_manager] findfont: Matching :family=DejaVu Sans:style=italic:variant=normal:weight=normal:stretch=normal:size=10.0 to DejaVu Sans (u'/home/sxg3847/env/local/lib/python2.7/site-packages/matplotlib/mpl-data/fonts/ttf/DejaVuSans-Oblique.ttf') with score of 0.150000\n",
      "DEBUG:matplotlib.font_manager] findfont: Matching :family=DejaVu Sans Display:style=normal:variant=normal:weight=normal:stretch=normal:size=10.0 to DejaVu Sans Display (u'/home/sxg3847/env/local/lib/python2.7/site-packages/matplotlib/mpl-data/fonts/ttf/DejaVuSansDisplay.ttf') with score of 0.050000\n"
     ]
    },
    {
     "data": {
      "image/png": "[encoded data removed]",
      "text/plain": [
       "<Figure size 432x288 with 1 Axes>"
      ]
     },
     "metadata": {
      "needs_background": "light"
     },
     "output_type": "display_data"
    }
   ],
   "source": [
    "plt.plot(history.history['val_loss'], label='validation')\n",
    "plt.plot(history.history['loss'], label='train')\n",
    "plt.title('FCN AutoEncoder ($D_{in}$=80, $D_{hidden}$=6)')\n",
    "plt.xlabel('epoch')\n",
    "plt.legend(loc='upper right')\n",
    "plt.show()"
   ]
  },
  {
   "cell_type": "code",
   "execution_count": 13,
   "metadata": {
    "collapsed": true
   },
   "outputs": [],
   "source": [
    "autoencoder.save('AE-FCN-model-d80.h5')\n",
    "#f_train.close()\n",
    "#f_validation.close()"
   ]
  },
  {
   "cell_type": "markdown",
   "metadata": {},
   "source": [
    "### Model Evaluation"
   ]
  },
  {
   "cell_type": "code",
   "execution_count": 14,
   "metadata": {
    "collapsed": true
   },
   "outputs": [],
   "source": [
    "### Model Evaluation\n",
    "\n",
    "from keras.models import load_model\n",
    "from sklearn.metrics import mutual_info_score\n",
    "from sklearn.utils import check_random_state\n",
    "from sklearn.preprocessing import StandardScaler, RobustScaler\n",
    "#from preprocessing import preprocessing\n",
    "\n",
    "from keras.losses import kullback_leibler_divergence, mean_squared_error, cosine"
   ]
  },
  {
   "cell_type": "code",
   "execution_count": 15,
   "metadata": {
    "collapsed": true
   },
   "outputs": [],
   "source": [
    "# Load training data and obtrain the scaler fit\n",
    "f_train=h5py.File('AE_train_qcd_preprocessed.h5','r')\n",
    "x_train=f_train['table']\n",
    "scaler=RobustScaler().fit(x_train[:10000, :LEN_INPUT]) #len_input\n",
    "f_train.close()"
   ]
  },
  {
   "cell_type": "code",
   "execution_count": 16,
   "metadata": {
    "collapsed": true
   },
   "outputs": [],
   "source": [
    "# Load preprocessed test data\n",
    "\n",
    "f_test_0=h5py.File('AE_test_qcd_preprocessed.h5','r')\n",
    "f_test_1=h5py.File('AE_test_top_preprocessed.h5','r')\n",
    "x_test_0=f_test_0['table']\n",
    "x_test_1=f_test_1['table']\n",
    "\n",
    "x_test=np.concatenate((x_test_0, x_test_1), axis=0)\n",
    "y_test=np.concatenate((np.zeros(len(x_test_0)), np.ones(len(x_test_1))), axis=0)\n",
    "\n",
    "rng = check_random_state(1)\n",
    "indices = rng.permutation(len(x_test))\n",
    "\n",
    "x_test_mix = [x_test[j] for j in indices[:100000]]\n",
    "y_test_mix = [y_test[j] for j in indices[:100000]]\n",
    "f_test_0.close()\n",
    "f_test_1.close()"
   ]
  },
  {
   "cell_type": "code",
   "execution_count": 17,
   "metadata": {
    "collapsed": true
   },
   "outputs": [],
   "source": [
    "x_test_mix=np.array(x_test_mix)\n",
    "y_test_mix=np.array(y_test_mix)"
   ]
  },
  {
   "cell_type": "code",
   "execution_count": 18,
   "metadata": {
    "collapsed": true
   },
   "outputs": [],
   "source": [
    "# Load the model\n",
    "autoencoder=load_model('AE-FCN-model-d80.h5')"
   ]
  },
  {
   "cell_type": "code",
   "execution_count": 19,
   "metadata": {
    "collapsed": true
   },
   "outputs": [],
   "source": [
    "x_test_mix=scaler.transform(x_test_mix[:,:LEN_INPUT])"
   ]
  },
  {
   "cell_type": "code",
   "execution_count": 20,
   "metadata": {
    "collapsed": true
   },
   "outputs": [],
   "source": [
    "predict_jets=autoencoder.predict(x_test_mix)"
   ]
  },
  {
   "cell_type": "code",
   "execution_count": 21,
   "metadata": {
    "collapsed": true
   },
   "outputs": [],
   "source": [
    "predict_loss_mse= np.mean(np.power(x_test_mix - predict_jets, 2), axis=1)\n",
    "#def cos_distance(y_true, y_pred):\n",
    "#    def l2_normalize(x, axis):\n",
    "#        norm = K.sqrt(K.sum(K.square(x), axis=axis, keepdims=True))\n",
    "#        return K.sign(x) * K.maximum(K.abs(x), K.epsilon()) / K.maximum(norm, K.epsilon())\n",
    "#    y_true = l2_normalize(y_true, axis=-1)\n",
    "#    y_pred = l2_normalize(y_pred, axis=-1)\n",
    "#    return K.mean(y_true * y_pred, axis=-1)\n",
    "#predict_loss_cosine=cosine(x_test_mix, np.float64(predict_jets))"
   ]
  },
  {
   "cell_type": "code",
   "execution_count": 22,
   "metadata": {
    "collapsed": true
   },
   "outputs": [],
   "source": [
    "#a = tf.convert_to_tensor(x_test_mix, np.float64)\n",
    "#b = tf.convert_to_tensor(predict_jets, np.float64)\n",
    "#predict_loss_kl=kullback_leibler_divergence(a,b)\n",
    "#predict_loss_kl=K.eval(predict_loss_kl)"
   ]
  },
  {
   "cell_type": "code",
   "execution_count": 23,
   "metadata": {
    "collapsed": true
   },
   "outputs": [],
   "source": [
    "predict_loss=predict_loss_mse"
   ]
  },
  {
   "cell_type": "code",
   "execution_count": 24,
   "metadata": {
    "collapsed": true
   },
   "outputs": [],
   "source": [
    "# Add scaling for predict_loss, not mandatory\n",
    "tf_loss=StandardScaler().fit(predict_loss.reshape(-1,1))\n",
    "predict_loss=tf_loss.transform(predict_loss.reshape(-1,1))"
   ]
  },
  {
   "cell_type": "code",
   "execution_count": 25,
   "metadata": {},
   "outputs": [
    {
     "data": {
      "text/plain": [
       "(array([2.0002e+04, 3.3746e+04, 1.4265e+04, 7.2800e+03, 5.1140e+03,\n",
       "        3.6270e+03, 2.8370e+03, 2.2290e+03, 1.7970e+03, 1.4760e+03,\n",
       "        1.3330e+03, 1.0090e+03, 9.7900e+02, 7.7200e+02, 6.9700e+02,\n",
       "        5.2300e+02, 5.0000e+02, 3.7600e+02, 3.0300e+02, 2.5700e+02,\n",
       "        2.0900e+02, 1.5300e+02, 1.2400e+02, 1.0100e+02, 6.9000e+01,\n",
       "        4.8000e+01, 5.3000e+01, 3.7000e+01, 2.5000e+01, 1.7000e+01,\n",
       "        1.3000e+01, 1.0000e+01, 7.0000e+00, 5.0000e+00, 1.0000e+00,\n",
       "        2.0000e+00, 0.0000e+00, 0.0000e+00, 1.0000e+00, 0.0000e+00,\n",
       "        1.0000e+00, 0.0000e+00, 0.0000e+00, 0.0000e+00, 0.0000e+00,\n",
       "        0.0000e+00, 0.0000e+00, 0.0000e+00, 0.0000e+00, 2.0000e+00]),\n",
       " array([-0.85732546, -0.6069239 , -0.35652235, -0.1061208 ,  0.14428075,\n",
       "         0.3946823 ,  0.64508385,  0.8954854 ,  1.14588695,  1.3962885 ,\n",
       "         1.64669005,  1.8970916 ,  2.14749316,  2.39789471,  2.64829626,\n",
       "         2.89869781,  3.14909936,  3.39950091,  3.64990246,  3.90030401,\n",
       "         4.15070556,  4.40110711,  4.65150866,  4.90191022,  5.15231177,\n",
       "         5.40271332,  5.65311487,  5.90351642,  6.15391797,  6.40431952,\n",
       "         6.65472107,  6.90512262,  7.15552417,  7.40592573,  7.65632728,\n",
       "         7.90672883,  8.15713038,  8.40753193,  8.65793348,  8.90833503,\n",
       "         9.15873658,  9.40913813,  9.65953968,  9.90994123, 10.16034279,\n",
       "        10.41074434, 10.66114589, 10.91154744, 11.16194899, 11.41235054,\n",
       "        11.66275209]),\n",
       " <a list of 50 Patch objects>)"
      ]
     },
     "execution_count": 25,
     "metadata": {},
     "output_type": "execute_result"
    },
    {
     "data": {
      "image/png": "[encoded data removed]",
      "text/plain": [
       "<Figure size 432x288 with 1 Axes>"
      ]
     },
     "metadata": {
      "needs_background": "light"
     },
     "output_type": "display_data"
    }
   ],
   "source": [
    "plt.hist(predict_loss, bins=50)"
   ]
  },
  {
   "cell_type": "code",
   "execution_count": 26,
   "metadata": {},
   "outputs": [
    {
     "data": {
      "image/png": "[encoded data removed]",
      "text/plain": [
       "<Figure size 432x288 with 1 Axes>"
      ]
     },
     "metadata": {
      "needs_background": "light"
     },
     "output_type": "display_data"
    }
   ],
   "source": [
    "l_rec_0=[]\n",
    "l_rec_1=[]\n",
    "\n",
    "for i in range(10000):\n",
    "    if y_test_mix[i]==0:\n",
    "        l_rec_0.append(predict_loss[i])\n",
    "    else:\n",
    "        l_rec_1.append(predict_loss[i])\n",
    "\n",
    "l_rec_0=np.array(l_rec_0)\n",
    "l_rec_1=np.array(l_rec_1)\n",
    "plt.hist(l_rec_0, histtype=\"step\", label='QCD')\n",
    "plt.hist(l_rec_1, histtype='step', label='Top')\n",
    "plt.legend(loc='best')\n",
    "plt.title('FCN AutoEncoder ($D_{in}$=80, $D_{hidden}$=6)')\n",
    "plt.xlabel('$L_{rec}$ (scaled)')\n",
    "plt.show()"
   ]
  },
  {
   "cell_type": "code",
   "execution_count": 27,
   "metadata": {},
   "outputs": [
    {
     "name": "stderr",
     "output_type": "stream",
     "text": [
      "/home/sxg3847/env/lib/python2.7/site-packages/ipykernel_launcher.py:7: RuntimeWarning: divide by zero encountered in divide\n",
      "  import sys\n",
      "WARNING:matplotlib.legend] No handles with labels found to put in legend.\n"
     ]
    },
    {
     "name": "stdout",
     "output_type": "stream",
     "text": [
      "('roc_auc =', 0.4976113050072822)\n"
     ]
    },
    {
     "data": {
      "image/png": "[encoded data removed]",
      "text/plain": [
       "<Figure size 432x288 with 1 Axes>"
      ]
     },
     "metadata": {
      "needs_background": "light"
     },
     "output_type": "display_data"
    }
   ],
   "source": [
    "from sklearn.metrics import roc_curve\n",
    "from sklearn.metrics import roc_auc_score\n",
    "\n",
    "fpr, tpr, thrs = roc_curve(y_test_mix, predict_loss)\n",
    "print(\"roc_auc =\", roc_auc_score(y_test_mix, predict_loss))\n",
    "#plt.plot(fpr, tpr, label=\"%s\" % filename)\n",
    "plt.plot(tpr, 1. / fpr, label=\"\")\n",
    "\n",
    "plt.xlim(0.1, 1.0)\n",
    "plt.ylim(1, 500)\n",
    "plt.yscale(\"log\")\n",
    "plt.title('FCN AutoEncoder ($D_{in}$=80, $D_{hidden}$=6)')\n",
    "plt.grid()\n",
    "plt.xlabel(\"$\\epsilon_S$\")\n",
    "plt.ylabel(\"$1/\\epsilon_B$\")\n",
    "plt.legend(loc=\"best\")\n",
    "plt.show()"
   ]
  },
  {
   "cell_type": "markdown",
   "metadata": {
    "collapsed": true
   },
   "source": [
    "## Model: LSTM"
   ]
  },
  {
   "cell_type": "code",
   "execution_count": 28,
   "metadata": {
    "collapsed": true
   },
   "outputs": [],
   "source": [
    "from keras.layers import Input, LSTM, RepeatVector #, CuDNNLSTM"
   ]
  },
  {
   "cell_type": "code",
   "execution_count": 29,
   "metadata": {
    "collapsed": true
   },
   "outputs": [],
   "source": [
    "x_train=load_data('AE_train_qcd_preprocessed.h5', LEN_INPUT)\n",
    "#x_train=normalize(x_train, norm='l2',axis=0)# 1: normalize each feature; 1: normalize each sample\n",
    "x_train=np.reshape(x_train,(len(x_train), -1, 4))\n",
    "#x_validation=np.reshape(x_validation, (len(x_validation), -1, 4))"
   ]
  },
  {
   "cell_type": "code",
   "execution_count": 30,
   "metadata": {
    "collapsed": true
   },
   "outputs": [],
   "source": [
    "input_dim=4\n",
    "timesteps=int(LEN_INPUT/4)\n",
    "latent_dim=10\n",
    "\n",
    "inputs = Input(shape=(None, input_dim))\n",
    "encoded = LSTM(latent_dim)(inputs)\n",
    "\n",
    "decoded = RepeatVector(timesteps)(encoded)\n",
    "decoded = LSTM(input_dim, return_sequences=True)(decoded)  # for CPU users\n",
    "#decoded = CuDNNLSTM(input_dim, return_sequences=True)(decoded) # for GPU users\n",
    "\n",
    "sequence_autoencoder = Model(inputs, decoded)\n",
    "encoder = Model(inputs, encoded)"
   ]
  },
  {
   "cell_type": "code",
   "execution_count": 31,
   "metadata": {
    "collapsed": true
   },
   "outputs": [],
   "source": [
    "sequence_autoencoder.compile(optimizer=\"adam\",\n",
    "                    # change the loss to measure difference\n",
    "                    # between distributions (D_{KL})\n",
    "                    #loss=\"kullback_leibler_divergence\")\n",
    "                    loss=\"mean_squared_error\")"
   ]
  },
  {
   "cell_type": "code",
   "execution_count": 32,
   "metadata": {},
   "outputs": [
    {
     "name": "stdout",
     "output_type": "stream",
     "text": [
      "Train on 480058 samples, validate on 120015 samples\n",
      "Epoch 1/50\n",
      "480058/480058 [==============================] - 113s 234us/step - loss: 1.1301 - val_loss: 1.1020\n",
      "Epoch 2/50\n",
      "480058/480058 [==============================] - 111s 231us/step - loss: 1.0934 - val_loss: 1.0924\n",
      "Epoch 3/50\n",
      "480058/480058 [==============================] - 118s 246us/step - loss: 1.0864 - val_loss: 1.0873\n",
      "Epoch 4/50\n",
      "480058/480058 [==============================] - 118s 246us/step - loss: 1.0819 - val_loss: 1.0836\n",
      "Epoch 5/50\n",
      "480058/480058 [==============================] - 117s 245us/step - loss: 1.0787 - val_loss: 1.0803\n",
      "Epoch 6/50\n",
      "480058/480058 [==============================] - 118s 246us/step - loss: 1.0762 - val_loss: 1.0797\n",
      "Epoch 7/50\n",
      "480058/480058 [==============================] - 118s 246us/step - loss: 1.0742 - val_loss: 1.0767\n",
      "Epoch 8/50\n",
      "480058/480058 [==============================] - 119s 247us/step - loss: 1.0728 - val_loss: 1.0776\n",
      "Epoch 9/50\n",
      "480058/480058 [==============================] - 116s 242us/step - loss: 1.0716 - val_loss: 1.0744\n",
      "Epoch 10/50\n",
      "480058/480058 [==============================] - 118s 246us/step - loss: 1.0707 - val_loss: 1.0733\n",
      "Epoch 11/50\n",
      "480058/480058 [==============================] - 118s 245us/step - loss: 1.0699 - val_loss: 1.0734\n",
      "Epoch 12/50\n",
      "480058/480058 [==============================] - 119s 248us/step - loss: 1.0692 - val_loss: 1.0721\n",
      "Epoch 13/50\n",
      "480058/480058 [==============================] - 115s 239us/step - loss: 1.0686 - val_loss: 1.0718\n",
      "Epoch 14/50\n",
      "480058/480058 [==============================] - 119s 247us/step - loss: 1.0680 - val_loss: 1.0709\n",
      "Epoch 15/50\n",
      "480058/480058 [==============================] - 119s 249us/step - loss: 1.0673 - val_loss: 1.0696\n",
      "Epoch 16/50\n",
      "480058/480058 [==============================] - 118s 245us/step - loss: 1.0666 - val_loss: 1.0705\n",
      "Epoch 17/50\n",
      "480058/480058 [==============================] - 118s 246us/step - loss: 1.0662 - val_loss: 1.0686\n",
      "Epoch 18/50\n",
      "480058/480058 [==============================] - 118s 246us/step - loss: 1.0656 - val_loss: 1.0682\n",
      "Epoch 19/50\n",
      "480058/480058 [==============================] - 118s 246us/step - loss: 1.0651 - val_loss: 1.0682\n",
      "Epoch 20/50\n",
      "480058/480058 [==============================] - 119s 247us/step - loss: 1.0645 - val_loss: 1.0670\n",
      "Epoch 21/50\n",
      "480058/480058 [==============================] - 118s 247us/step - loss: 1.0640 - val_loss: 1.0656\n",
      "Epoch 22/50\n",
      "480058/480058 [==============================] - 118s 247us/step - loss: 1.0623 - val_loss: 1.0638\n",
      "Epoch 23/50\n",
      "480058/480058 [==============================] - 118s 246us/step - loss: 1.0602 - val_loss: 1.0617\n",
      "Epoch 24/50\n",
      "480058/480058 [==============================] - 118s 245us/step - loss: 1.0590 - val_loss: 1.0613\n",
      "Epoch 25/50\n",
      "480058/480058 [==============================] - 118s 246us/step - loss: 1.0580 - val_loss: 1.0606\n",
      "Epoch 26/50\n",
      "480058/480058 [==============================] - 118s 245us/step - loss: 1.0571 - val_loss: 1.0613\n",
      "Epoch 27/50\n",
      "480058/480058 [==============================] - 118s 246us/step - loss: 1.0565 - val_loss: 1.0589\n",
      "Epoch 28/50\n",
      "480058/480058 [==============================] - 118s 246us/step - loss: 1.0561 - val_loss: 1.0582\n",
      "Epoch 29/50\n",
      "480058/480058 [==============================] - 119s 247us/step - loss: 1.0552 - val_loss: 1.0581\n",
      "Epoch 30/50\n",
      "480058/480058 [==============================] - 118s 246us/step - loss: 1.0548 - val_loss: 1.0574\n",
      "Epoch 31/50\n",
      "480058/480058 [==============================] - 114s 238us/step - loss: 1.0541 - val_loss: 1.0578\n",
      "Epoch 32/50\n",
      "480058/480058 [==============================] - 112s 232us/step - loss: 1.0535 - val_loss: 1.0565\n",
      "Epoch 33/50\n",
      "480058/480058 [==============================] - 118s 245us/step - loss: 1.0530 - val_loss: 1.0551\n",
      "Epoch 34/50\n",
      "480058/480058 [==============================] - 118s 247us/step - loss: 1.0525 - val_loss: 1.0551\n",
      "Epoch 35/50\n",
      "480058/480058 [==============================] - 118s 246us/step - loss: 1.0519 - val_loss: 1.0546\n",
      "Epoch 36/50\n",
      "480058/480058 [==============================] - 118s 246us/step - loss: 1.0518 - val_loss: 1.0540\n",
      "Epoch 37/50\n",
      "480058/480058 [==============================] - 114s 238us/step - loss: 1.0511 - val_loss: 1.0531\n",
      "Epoch 38/50\n",
      "480058/480058 [==============================] - 116s 243us/step - loss: 1.0509 - val_loss: 1.0551\n",
      "Epoch 39/50\n",
      "480058/480058 [==============================] - 112s 234us/step - loss: 1.0503 - val_loss: 1.0523\n",
      "Epoch 40/50\n",
      "480058/480058 [==============================] - 118s 246us/step - loss: 1.0503 - val_loss: 1.0522\n",
      "Epoch 41/50\n",
      "480058/480058 [==============================] - 118s 245us/step - loss: 1.0499 - val_loss: 1.0524\n",
      "Epoch 42/50\n",
      "480058/480058 [==============================] - 118s 246us/step - loss: 1.0497 - val_loss: 1.0523\n",
      "Epoch 43/50\n",
      "480058/480058 [==============================] - 118s 246us/step - loss: 1.0495 - val_loss: 1.0525\n",
      "Epoch 44/50\n",
      "480058/480058 [==============================] - 116s 242us/step - loss: 1.0495 - val_loss: 1.0521\n",
      "Epoch 45/50\n",
      "480058/480058 [==============================] - 118s 246us/step - loss: 1.0495 - val_loss: 1.0518\n",
      "Epoch 46/50\n",
      "480058/480058 [==============================] - 118s 246us/step - loss: 1.0486 - val_loss: 1.0521\n",
      "Epoch 47/50\n",
      "480058/480058 [==============================] - 118s 246us/step - loss: 1.0490 - val_loss: 1.0539\n",
      "Epoch 48/50\n",
      "480058/480058 [==============================] - 119s 247us/step - loss: 1.0484 - val_loss: 1.0522\n",
      "Epoch 49/50\n",
      "480058/480058 [==============================] - 118s 247us/step - loss: 1.0488 - val_loss: 1.0513\n",
      "Epoch 50/50\n",
      "480058/480058 [==============================] - 118s 247us/step - loss: 1.0480 - val_loss: 1.0506\n"
     ]
    }
   ],
   "source": [
    "from keras.callbacks import TensorBoard, EarlyStopping\n",
    "\n",
    "early_stopping = EarlyStopping(monitor='val_loss', min_delta=5e-4, patience=10)\n",
    "\n",
    "history=sequence_autoencoder.fit(x_train, x_train,\n",
    "                epochs=50,\n",
    "                batch_size=128,\n",
    "                shuffle=True,\n",
    "                validation_split=0.2,\n",
    "                callbacks=[early_stopping] \n",
    "                                )\n",
    "\n",
    "#validation_data=(x_validation, x_validation),\n",
    "#callbacks=[TensorBoard(log_dir='/tmp/autoencoder')]) #http://0.0.0.0:6006"
   ]
  },
  {
   "cell_type": "code",
   "execution_count": 33,
   "metadata": {
    "collapsed": true
   },
   "outputs": [],
   "source": [
    "sequence_autoencoder.save('AE-LSTM-model-d80.h5')"
   ]
  },
  {
   "cell_type": "code",
   "execution_count": 34,
   "metadata": {},
   "outputs": [
    {
     "data": {
      "image/png": "[encoded data removed]",
      "text/plain": [
       "<Figure size 432x288 with 1 Axes>"
      ]
     },
     "metadata": {
      "needs_background": "light"
     },
     "output_type": "display_data"
    }
   ],
   "source": [
    "plt.plot(history.history['loss'])\n",
    "plt.plot(history.history['val_loss'])\n",
    "plt.title('LSTM AutoEncoder ($D_{in}$=80, $D_{hidden}$=10)')\n",
    "plt.legend(['Train', 'Test'], loc='upper right')\n",
    "plt.xlabel('epoch')\n",
    "plt.show()"
   ]
  },
  {
   "cell_type": "markdown",
   "metadata": {},
   "source": [
    "### Model Evaluation"
   ]
  },
  {
   "cell_type": "code",
   "execution_count": 35,
   "metadata": {
    "collapsed": true
   },
   "outputs": [],
   "source": [
    "from sklearn.preprocessing import StandardScaler, RobustScaler\n",
    "from sklearn.metrics import roc_curve\n",
    "from sklearn.metrics import roc_auc_score\n",
    "from sklearn.utils import check_random_state"
   ]
  },
  {
   "cell_type": "code",
   "execution_count": 36,
   "metadata": {
    "collapsed": true
   },
   "outputs": [],
   "source": [
    "# Load training data and obtrain the scaler fit\n",
    "f_train=h5py.File('AE_train_qcd_preprocessed.h5','r')\n",
    "x_train=f_train['table']\n",
    "scaler=RobustScaler().fit(x_train[:10000, :80])\n",
    "f_train.close()"
   ]
  },
  {
   "cell_type": "code",
   "execution_count": 37,
   "metadata": {
    "collapsed": true
   },
   "outputs": [],
   "source": [
    "# Load preprocessed test data\n",
    "\n",
    "f_test_0=h5py.File('AE_test_qcd_preprocessed.h5','r')\n",
    "f_test_1=h5py.File('AE_test_top_preprocessed.h5','r')\n",
    "x_test_0=f_test_0['table']\n",
    "x_test_1=f_test_1['table']\n",
    "\n",
    "x_test=np.concatenate((x_test_0, x_test_1), axis=0)\n",
    "y_test=np.concatenate((np.zeros(len(x_test_0)), np.ones(len(x_test_1))), axis=0)\n",
    "\n",
    "rng = check_random_state(1)\n",
    "indices = rng.permutation(len(x_test))\n",
    "\n",
    "x_test_mix = [x_test[j] for j in indices[:100000]]\n",
    "y_test_mix = [y_test[j] for j in indices[:100000]]\n",
    "f_test_0.close()\n",
    "f_test_1.close()"
   ]
  },
  {
   "cell_type": "code",
   "execution_count": 38,
   "metadata": {
    "collapsed": true
   },
   "outputs": [],
   "source": [
    "x_test_mix=np.array(x_test_mix)\n",
    "y_test_mix=np.array(y_test_mix)"
   ]
  },
  {
   "cell_type": "code",
   "execution_count": 39,
   "metadata": {
    "collapsed": true
   },
   "outputs": [],
   "source": [
    "x_test_mix=scaler.transform(x_test_mix[:,:LEN_INPUT])\n",
    "#x_test_mix=normalize(x_test_mix,axis=1)\n",
    "x_test_mix=np.reshape(x_test_mix, (len(x_test_mix), -1, 4))"
   ]
  },
  {
   "cell_type": "code",
   "execution_count": 40,
   "metadata": {
    "collapsed": true
   },
   "outputs": [],
   "source": [
    "# load model\n",
    "sequence_autoencoder=load_model('AE-LSTM-model-d80.h5')"
   ]
  },
  {
   "cell_type": "code",
   "execution_count": 41,
   "metadata": {
    "collapsed": true
   },
   "outputs": [],
   "source": [
    "predict_jets=sequence_autoencoder.predict(x_test_mix)\n",
    "predict_loss_mse= np.mean(np.reshape(np.power(x_test_mix - predict_jets, 2),(len(x_test_mix), -1)), axis=1)"
   ]
  },
  {
   "cell_type": "code",
   "execution_count": 42,
   "metadata": {
    "collapsed": true
   },
   "outputs": [],
   "source": [
    "a=predict_loss_mse"
   ]
  },
  {
   "cell_type": "code",
   "execution_count": 43,
   "metadata": {},
   "outputs": [
    {
     "data": {
      "text/plain": [
       "(array([8.2150e+04, 1.0796e+04, 4.4350e+03, 1.8030e+03, 5.9600e+02,\n",
       "        1.7300e+02, 4.0000e+01, 4.0000e+00, 1.0000e+00, 2.0000e+00]),\n",
       " array([-0.74875547,  0.49637718,  1.74150983,  2.98664248,  4.23177513,\n",
       "         5.47690778,  6.72204043,  7.96717308,  9.21230572, 10.45743837,\n",
       "        11.70257102]),\n",
       " <a list of 10 Patch objects>)"
      ]
     },
     "execution_count": 43,
     "metadata": {},
     "output_type": "execute_result"
    },
    {
     "data": {
      "image/png": "[encoded data removed]",
      "text/plain": [
       "<Figure size 432x288 with 1 Axes>"
      ]
     },
     "metadata": {
      "needs_background": "light"
     },
     "output_type": "display_data"
    }
   ],
   "source": [
    "# this block is not mandatory\n",
    "a=np.reshape(a, (-1,1))\n",
    "tfa=StandardScaler().fit(a)\n",
    "a=tfa.transform(a)\n",
    "\n",
    "plt.hist(a)"
   ]
  },
  {
   "cell_type": "code",
   "execution_count": 44,
   "metadata": {},
   "outputs": [
    {
     "name": "stderr",
     "output_type": "stream",
     "text": [
      "/home/sxg3847/env/lib/python2.7/site-packages/ipykernel_launcher.py:4: RuntimeWarning: divide by zero encountered in divide\n",
      "  after removing the cwd from sys.path.\n",
      "WARNING:matplotlib.legend] No handles with labels found to put in legend.\n"
     ]
    },
    {
     "name": "stdout",
     "output_type": "stream",
     "text": [
      "('roc_auc =', 0.4969699393255247)\n"
     ]
    },
    {
     "data": {
      "image/png": "[encoded data removed]",
      "text/plain": [
       "<Figure size 432x288 with 1 Axes>"
      ]
     },
     "metadata": {
      "needs_background": "light"
     },
     "output_type": "display_data"
    }
   ],
   "source": [
    "fpr, tpr, thrs = roc_curve(y_test_mix, a)\n",
    "print(\"roc_auc =\", roc_auc_score(y_test_mix, a))\n",
    "#plt.plot(fpr, tpr, label=\"%s\" % filename)\n",
    "plt.plot(tpr, 1. / fpr, label=\"\")\n",
    "\n",
    "plt.xlim(0.1, 1.0)\n",
    "plt.ylim(1, 500)\n",
    "plt.yscale(\"log\")\n",
    "plt.grid()\n",
    "plt.title('LSTM AutoEncoder ($D_{in}$=80, $D_{hidden}$=10)')\n",
    "plt.xlabel(\"$\\epsilon_S$\")\n",
    "plt.ylabel(\"$1/\\epsilon_B$\")\n",
    "plt.legend(loc=\"best\")\n",
    "plt.show()"
   ]
  },
  {
   "cell_type": "code",
   "execution_count": null,
   "metadata": {
    "collapsed": true
   },
   "outputs": [],
   "source": []
  }
 ],
 "metadata": {
  "kernelspec": {
   "display_name": "env",
   "language": "python",
   "name": "env"
  },
  "language_info": {
   "codemirror_mode": {
    "name": "ipython",
    "version": 2
   },
   "file_extension": ".py",
   "mimetype": "text/x-python",
   "name": "python",
   "nbconvert_exporter": "python",
   "pygments_lexer": "ipython2",
   "version": "2.7.12"
  }
 },
 "nbformat": 4,
 "nbformat_minor": 2
}
