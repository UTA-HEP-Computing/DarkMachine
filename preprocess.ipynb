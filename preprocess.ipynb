{
 "cells": [
  {
   "cell_type": "code",
   "execution_count": 1,
   "metadata": {},
   "outputs": [
    {
     "name": "stderr",
     "output_type": "stream",
     "text": [
      "Using TensorFlow backend.\n"
     ]
    },
    {
     "data": {
      "text/plain": [
       "[]"
      ]
     },
     "execution_count": 1,
     "metadata": {},
     "output_type": "execute_result"
    }
   ],
   "source": [
    "### Preprocessing of testing and validation data ###\n",
    "\n",
    "# imports\n",
    "\n",
    "import numpy as np\n",
    "import os\n",
    "os.environ[\"KERAS_BACKEND\"] = \"tensorflow\"\n",
    "import h5py\n",
    "import pickle\n",
    "import pandas\n",
    "import matplotlib.pyplot as plt\n",
    "\n",
    "import tensorflow as tf\n",
    "from keras.models import Model\n",
    "from keras.layers import Input, Dense, Dropout\n",
    "from keras.utils import plot_model\n",
    "\n",
    "from keras import backend as K\n",
    "K.tensorflow_backend._get_available_gpus()"
   ]
  },
  {
   "cell_type": "markdown",
   "metadata": {},
   "source": [
    "# split-QCDvsTop-data for VAE testing\n",
    "\n",
    "### QCD Test Preprocessing"
   ]
  },
  {
   "cell_type": "code",
   "execution_count": 2,
   "metadata": {
    "collapsed": true
   },
   "outputs": [],
   "source": [
    "## split-QCDvsTop-data for VAE testing\n",
    "\n",
    "input_testname=\"/data/sxg3847/v0-samples/v0/test.h5\"\n",
    "\n",
    "store=pandas.HDFStore(input_testname) # pytable interface in pandas\n",
    "\n",
    "data=store.select('table', stop=100000)\n",
    "qcd_all=data[data[\"is_signal_new\"]==0] # data selection [0: qcd; 1: top]\n",
    "qcd_all=qcd_all.values # transform into numpy arrays\n",
    "qcd_all=qcd_all[:,0:400]\n",
    "    \n",
    "for i in range(1,4): # range(1, 4) for validation and test set, (1,12) for train\n",
    "    data=store.select(\"table\", start=i*100000, stop=(i+1)*100000) # pandas dataframe\n",
    "    qcd=data[data[\"is_signal_new\"]==0] # data selection [0: qcd; 1: top]\n",
    "    qcd=qcd.values # transform into numpy arrays\n",
    "    qcd=qcd[:,0:400]\n",
    "    qcd_all=np.append(qcd_all, qcd, axis=0)\n",
    "\n",
    "data_out=h5py.File('AE_test_qcd.h5', 'w')\n",
    "dset=data_out.create_dataset('table', data=qcd_all)\n",
    "data_out.close()"
   ]
  },
  {
   "cell_type": "code",
   "execution_count": 3,
   "metadata": {},
   "outputs": [
    {
     "name": "stdout",
     "output_type": "stream",
     "text": [
      "Welcome to JupyROOT 6.12/06\n"
     ]
    }
   ],
   "source": [
    "### Preprocessing \n",
    "from preprocessing import preprocessing "
   ]
  },
  {
   "cell_type": "code",
   "execution_count": 4,
   "metadata": {
    "collapsed": true
   },
   "outputs": [],
   "source": [
    "f=h5py.File('AE_test_qcd.h5','r')\n",
    "data=f['table']\n",
    "data_preprocessed=[]"
   ]
  },
  {
   "cell_type": "code",
   "execution_count": 5,
   "metadata": {},
   "outputs": [
    {
     "name": "stdout",
     "output_type": "stream",
     "text": [
      "0\n",
      "10000\n",
      "20000\n",
      "30000\n",
      "40000\n",
      "50000\n",
      "60000\n",
      "70000\n",
      "80000\n",
      "90000\n",
      "100000\n",
      "110000\n",
      "120000\n",
      "130000\n",
      "140000\n",
      "150000\n",
      "160000\n",
      "170000\n",
      "180000\n",
      "190000\n"
     ]
    }
   ],
   "source": [
    "for i in range(len(data)):\n",
    "    if i%10000==0:\n",
    "        print i\n",
    "    data_preprocessed.append(preprocessing(data[i]))"
   ]
  },
  {
   "cell_type": "code",
   "execution_count": 6,
   "metadata": {
    "collapsed": true
   },
   "outputs": [],
   "source": [
    "data_preprocessed=np.vstack(data_preprocessed)\n",
    "data_out=h5py.File('AE_test_qcd_preprocessed.h5', 'w')\n",
    "dset=data_out.create_dataset('table', data=data_preprocessed)\n",
    "data_out.close()\n",
    "data_out=h5py.File('AE_test_qcd_preprocessed.h5', 'w')\n",
    "dset=data_out.create_dataset('table', data=data_preprocessed)\n",
    "data_out.close()\n",
    "f.close()"
   ]
  },
  {
   "cell_type": "markdown",
   "metadata": {},
   "source": [
    "### TOP Test Preprocessing"
   ]
  },
  {
   "cell_type": "code",
   "execution_count": 7,
   "metadata": {
    "collapsed": true
   },
   "outputs": [],
   "source": [
    "## split-QCDvsTop-data for VAE testing\n",
    "\n",
    "input_testname=\"/data/sxg3847/v0-samples/v0/test.h5\"\n",
    "\n",
    "store=pandas.HDFStore(input_testname) # pytable interface in pandas\n",
    "\n",
    "data=store.select('table', stop=100000)\n",
    "top_all=data[data[\"is_signal_new\"]==1] # data selection [0: qcd; 1: top]\n",
    "top_all=top_all.values # transform into numpy arrays\n",
    "top_all=top_all[:,0:400]\n",
    "    \n",
    "for i in range(1,4): # range(1, 4) for validation and test set, (1,12) for train\n",
    "    data=store.select(\"table\", start=i*100000, stop=(i+1)*100000) # pandas dataframe\n",
    "    top=data[data[\"is_signal_new\"]==1] # data selection [0: qcd; 1: top]\n",
    "    top=top.values # transform into numpy arrays\n",
    "    top=top[:,0:400]\n",
    "    top_all=np.append(qcd_all, qcd, axis=0)\n",
    "\n",
    "data_out=h5py.File('AE_test_top.h5', 'w')\n",
    "dset=data_out.create_dataset('table', data=top_all)\n",
    "data_out.close()"
   ]
  },
  {
   "cell_type": "code",
   "execution_count": 8,
   "metadata": {
    "collapsed": true
   },
   "outputs": [],
   "source": [
    "f=h5py.File('AE_test_top.h5','r')\n",
    "data=f['table']\n",
    "data_preprocessed=[]"
   ]
  },
  {
   "cell_type": "code",
   "execution_count": 9,
   "metadata": {},
   "outputs": [
    {
     "name": "stdout",
     "output_type": "stream",
     "text": [
      "0\n",
      "10000\n",
      "20000\n",
      "30000\n",
      "40000\n",
      "50000\n",
      "60000\n",
      "70000\n",
      "80000\n",
      "90000\n",
      "100000\n",
      "110000\n",
      "120000\n",
      "130000\n",
      "140000\n",
      "150000\n",
      "160000\n",
      "170000\n",
      "180000\n",
      "190000\n",
      "200000\n",
      "210000\n",
      "220000\n",
      "230000\n",
      "240000\n"
     ]
    }
   ],
   "source": [
    "for i in range(len(data)):\n",
    "    if i%10000==0:\n",
    "        print i\n",
    "    data_preprocessed.append(preprocessing(data[i]))"
   ]
  },
  {
   "cell_type": "code",
   "execution_count": 10,
   "metadata": {
    "collapsed": true
   },
   "outputs": [],
   "source": [
    "data_preprocessed=np.vstack(data_preprocessed)\n",
    "data_out=h5py.File('AE_test_top_preprocessed.h5', 'w')\n",
    "dset=data_out.create_dataset('table', data=data_preprocessed)\n",
    "data_out.close()\n",
    "data_out=h5py.File('AE_test_top_preprocessed.h5', 'w')\n",
    "dset=data_out.create_dataset('table', data=data_preprocessed)\n",
    "data_out.close()\n",
    "f.close()"
   ]
  },
  {
   "cell_type": "markdown",
   "metadata": {},
   "source": [
    "#### ... Preprocessing for testing data complete. Next...\n",
    "\n",
    "\n",
    "# split-QCDvsTop-data for VAE validation"
   ]
  },
  {
   "cell_type": "code",
   "execution_count": 11,
   "metadata": {
    "collapsed": true
   },
   "outputs": [],
   "source": [
    "# ... Preprocessing for testing data complete. Next...\n",
    "\n",
    "## split-QCDvsTop-data for VAE validation\n",
    "\n",
    "input_valname=\"/data/sxg3847/v0-samples/v0/val.h5\"\n",
    "\n",
    "store=pandas.HDFStore(input_valname) # pytable interface in pandas\n",
    "\n",
    "data=store.select('table', stop=100000)\n",
    "qcd_all=data[data[\"is_signal_new\"]==0] # data selection [0: qcd; 1: top]\n",
    "qcd_all=qcd_all.values # transform into numpy arrays\n",
    "qcd_all=qcd_all[:,0:400]\n",
    "    \n",
    "for i in range(1,4): # range(1, 4) for validation and test set, (1,12) for train\n",
    "    data=store.select(\"table\", start=i*100000, stop=(i+1)*100000) # pandas dataframe\n",
    "    qcd=data[data[\"is_signal_new\"]==0] # data selection [0: qcd; 1: top]\n",
    "    qcd=qcd.values # transform into numpy arrays\n",
    "    qcd=qcd[:,0:400]\n",
    "    qcd_all=np.append(qcd_all, qcd, axis=0)\n",
    "\n",
    "data_out=h5py.File('AE_val_qcd.h5', 'w')\n",
    "dset=data_out.create_dataset('table', data=qcd_all)\n",
    "data_out.close()"
   ]
  },
  {
   "cell_type": "code",
   "execution_count": 12,
   "metadata": {
    "collapsed": true
   },
   "outputs": [],
   "source": [
    "### Preprocessing \n",
    "from preprocessing import preprocessing "
   ]
  },
  {
   "cell_type": "code",
   "execution_count": 13,
   "metadata": {
    "collapsed": true
   },
   "outputs": [],
   "source": [
    "f=h5py.File('AE_val_qcd.h5','r')\n",
    "data=f['table']\n",
    "data_preprocessed=[]"
   ]
  },
  {
   "cell_type": "code",
   "execution_count": 14,
   "metadata": {},
   "outputs": [
    {
     "name": "stdout",
     "output_type": "stream",
     "text": [
      "0\n",
      "10000\n",
      "20000\n",
      "30000\n",
      "40000\n",
      "50000\n",
      "60000\n",
      "70000\n",
      "80000\n",
      "90000\n",
      "100000\n",
      "110000\n",
      "120000\n",
      "130000\n",
      "140000\n",
      "150000\n",
      "160000\n",
      "170000\n",
      "180000\n",
      "190000\n",
      "200000\n"
     ]
    }
   ],
   "source": [
    "for i in range(len(data)):\n",
    "    if i%10000==0:\n",
    "        print i\n",
    "    data_preprocessed.append(preprocessing(data[i]))"
   ]
  },
  {
   "cell_type": "code",
   "execution_count": 15,
   "metadata": {
    "collapsed": true
   },
   "outputs": [],
   "source": [
    "data_preprocessed=np.vstack(data_preprocessed)\n",
    "data_out=h5py.File('AE_val_qcd_preprocessed.h5', 'w')\n",
    "dset=data_out.create_dataset('table', data=data_preprocessed)\n",
    "data_out.close()\n",
    "data_out=h5py.File('AE_val_qcd_preprocessed.h5', 'w')\n",
    "dset=data_out.create_dataset('table', data=data_preprocessed)\n",
    "data_out.close()\n",
    "f.close()"
   ]
  }
 ],
 "metadata": {
  "kernelspec": {
   "display_name": "env",
   "language": "python",
   "name": "env"
  },
  "language_info": {
   "codemirror_mode": {
    "name": "ipython",
    "version": 2
   },
   "file_extension": ".py",
   "mimetype": "text/x-python",
   "name": "python",
   "nbconvert_exporter": "python",
   "pygments_lexer": "ipython2",
   "version": "2.7.12"
  }
 },
 "nbformat": 4,
 "nbformat_minor": 2
}
